





# check which libraries are installed
!pip list


# import third party libraries to anaconda
!pip install numpy pandas geopandas matplotlib folium

# importing the libraries
import pandas as pd
import geopandas as gpd
import matplotlib.pyplot as plt


# read and add Persons_Experiencing_Homelessness shapefile to notebook
homeless = gpd.read_file('data/Persons_Experiencing_Homelessness.zip')










# Preview the first few rows
homeless.shape




# Info about the dataset
homeless.info()


# Preview the data
homeless.head()


# Count Unique Value
line_count = homeless['Geo_Type'].value_counts()
line_count


# The dataset includes 210 total records
# 122 of them represent areas classified as "Unincorporated Los Angeles County".
# 88 represent "Incorporated City" areas.


# Create a Map
homeless.plot()


# Show places in Los Angeles County









