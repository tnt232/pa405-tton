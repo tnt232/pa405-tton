





# check which libraries are installed
!pip list


# import third party libraries to anaconda
!pip install numpy pandas geopandas matplotlib folium

# importing the libraries
import pandas as pd
import geopandas as gpd
import matplotlib.pyplot as plt


# read and add Persons_Experiencing_Homelessness shapefile to notebook
metro = gpd.read_file('data/Persons_Experiencing_Homelessness.zip')










# Preview the first few rows
metro.shape




# Info about the dataset
metro.info()


# Preview the data
metro.head()


# Count Unique Value
line_count = metro['Geo_Type'].value_counts()
line_count


# The dataset includes 210 total records
# 122 of them represent areas classified as "Unincorporated Los Angeles County".
# 88 represent "Incorporated City" areas.


# Create a Map
metro.plot()


# Show places in Los Angeles County



