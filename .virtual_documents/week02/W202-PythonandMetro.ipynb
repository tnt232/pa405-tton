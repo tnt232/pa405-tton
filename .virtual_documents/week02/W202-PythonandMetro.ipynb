











# check which libraries are installed
!pip list   


# pip install allows us to import third party libraries to anaconda
!pip install numpy pandas geopandas matplotlib folium


import pandas as pd
import geopandas as gpd
import matplotlib.pyplot as plt





# read and add shapefile to notebook
metro = gpd.read_file('data/metroRail_2023.zip')





# what's the data type?
type(metro)


# what does the data look like? 
metro.head()








# try tail()
metro.tail(1)


# try sample()
metro.sample(2)





metro.dtypes





# dataframe info
metro.info()











# how many rows and columns?
metro.shape


# what are the columns?
metro.columns.to_list()





# single column
metro['LINE'].sample(5)


# another way
metro.LINE.sample(5)











metro['LINE'].value_counts()


# save it as a variable
line_count = metro['LINE'].value_counts()
line_count


# what data type is line_count?
type(line_count)


# let's convert the series into a dataframe
line_count = line_count.reset_index()
line_count


type(line_count)





# current columns as a list
line_count.columns.to_list()





line_count.columns = ['line', 'count']


line_count





line_count.plot()





# give it additional arguments
line_count.plot.bar(x = 'line', y = 'count', title = 'Number of stops per metro line')





# output the original data's info
metro.info()


# show a dataframe with a subset of columns
metro[['LINE','STATION','LAT','LON','geometry']]





# list of desired column names
desired_columns = ['LINE','STATION','LAT','LON','geometry']

# subset based on desired columns
metro[desired_columns].sample(5)





metro.head()








metro_trimmed = metro[desired_columns].copy()
metro_trimmed





metro_trimmed[metro_trimmed.LINE == 'E']





# another way .loc
metro_trimmed.loc[metro_trimmed['LINE'] == 'B']


# another way .query
metro_trimmed.query("LINE == 'E'")


# try it yourself. Query the dataframe for other properties of interest






metro_trimmed.plot()





metro_trimmed.geometry





metro_trimmed.plot(
            figsize=(20,12),   #size of the plot (a bit bigger than the default)
            column = 'LINE',   # column that defines the color of the dots
            legend = True,     # add a legend           
            legend_kwds={
               'loc': 'upper right',
               'bbox_to_anchor':(1,1)
            }                  # this puts the legend to the side
) 








import folium


# default folium map
m = folium.Map()
m








# average latitude
latitude = metro_trimmed.LAT.mean()
latitude


# average longitude
longitude = metro_trimmed.LON.mean()
longitude





# complete this code so that the map will show up 
# centered based on the average lat/lon calculated above
# adjust the zoom level accordingly
m = folium.Map(location=[latitude,longitude])
m








# first, note how to loop through a dataframe:
for index, row in metro_trimmed.iterrows():
    print(row.STATION, row.LAT, row.LON)





for index, row in metro_trimmed.iterrows():
    # add folium marker code
    folium.Marker([row.LAT, row.LON], popup=row.STATION, tooltip=row.STATION).add_to(m)
m








# add a new column
metro_trimmed['color'] = ''


metro_trimmed.head()





# find unique values in the LINE column
metro_trimmed.LINE.unique()





# display rows that match a query
metro_trimmed.loc[metro_trimmed['LINE'] == 'E']








metro_trimmed.loc[metro_trimmed['LINE'] == 'E', 'color'] = 'yellow'


# check your work
metro_trimmed.loc[metro_trimmed['LINE'] == 'E']





# Add a color value to each of the following lines: 'A', 'B', 'B/D', 'D', 'C', 'E', 'K'
metro_trimmed.loc[metro_trimmed['LINE'] == 'A', 'color'] = 'blue'
metro_trimmed.loc[metro_trimmed['LINE'] == 'B', 'color'] = 'red'
metro_trimmed.loc[metro_trimmed['LINE'] == 'B/D', 'color'] = 'darkblue'
metro_trimmed.loc[metro_trimmed['LINE'] == 'D', 'color'] = 'purple'
metro_trimmed.loc[metro_trimmed['LINE'] == 'C', 'color'] = 'green'
metro_trimmed.loc[metro_trimmed['LINE'] == 'E', 'color'] = 'orange'
metro_trimmed.loc[metro_trimmed['LINE'] == 'K', 'color'] = 'pink'



metro_trimmed.sample(5)





# You can list available tiles from xyzservices.providers
import xyzservices.providers as xyz


xyz.keys()


# reset the map (you need to do this to erase previous layers)
m = folium.Map(location=[latitude,longitude], tiles='Cartodb Positron', zoom_start=10, attr="Map data © OpenStreetMap contributors")


# add the stations with color icons
for index, row in metro_trimmed.iterrows():
    tooltip_text = row.LINE + ' Line: ' + row.STATION
    folium.Marker(
        [row.LAT,row.LON], 
        popup=row.STATION, 
        tooltip=tooltip_text,
        icon=folium.Icon(color=row.color)
    ).add_to(m)

# show the map
m





# save the interactive maps as an html file
m.save('metro.html')
