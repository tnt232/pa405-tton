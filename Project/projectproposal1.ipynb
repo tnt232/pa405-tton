{
 "cells": [
  {
   "cell_type": "raw",
   "id": "a3deb679-f090-47c2-a048-c0f31cf091bd",
   "metadata": {},
   "source": [
    "#Research Question\n",
    "How is homelessness spatially distributed across Los Angeles County?"
   ]
  },
  {
   "cell_type": "raw",
   "id": "87516f04-e8e0-4b9d-b793-b55fd5eddbe6",
   "metadata": {},
   "source": [
    "#Why It Matters\n",
    "This topic is important to me because I live in the Los Angeles area and see firsthand how homelessness impacts both individuals and entire communities."
   ]
  },
  {
   "cell_type": "raw",
   "id": "1b77e504-eb1f-435c-b665-f70bf2a517d0",
   "metadata": {},
   "source": [
    "#Spatial Scope\n",
    "The project focuses on Los Angeles County."
   ]
  },
  {
   "cell_type": "raw",
   "id": "94bc369c-9bdc-41bc-b196-9d908a014aba",
   "metadata": {},
   "source": [
    "#Data Sources\n",
    "These data sources contain homelessness data across LA County.\n",
    "[Los Angeles County Persons Experiencing Homelessness Dataset](https://egis-lacounty.hub.arcgis.com/datasets/lacounty::persons-experiencing-homelessness/explore)\n",
    "[LAHSA Homeless Data](https://lahsa.org/data)"
   ]
  },
  {
   "cell_type": "raw",
   "id": "e7102d6d-e8df-4ff2-8290-3c8cf2643156",
   "metadata": {},
   "source": [
    "#Scope\n",
    "In this project, I will analyze geospatial data related to homelessness in Los Angeles County to understand how it is distributed across different areas. The main outcome will be a map visualizing the spatial distribution of homelessness throughout the region."
   ]
  },
  {
   "cell_type": "raw",
   "id": "9945f8f6-f577-4652-ac34-63b460ef1292",
   "metadata": {},
   "source": [
    "#Expected Insights\n",
    "From this research, I expect to gain insight into how geographic boundaries influence homelessness trends in LA County.\n",
    "Ultimately, I hope this analysis will help promote a more spatially-informed understanding of homelessness"
   ]
  }
 ],
 "metadata": {
  "kernelspec": {
   "display_name": "Python 3 (ipykernel)",
   "language": "python",
   "name": "python3"
  },
  "language_info": {
   "codemirror_mode": {
    "name": "ipython",
    "version": 3
   },
   "file_extension": ".py",
   "mimetype": "text/x-python",
   "name": "python",
   "nbconvert_exporter": "python",
   "pygments_lexer": "ipython3",
   "version": "3.13.5"
  }
 },
 "nbformat": 4,
 "nbformat_minor": 5
}
